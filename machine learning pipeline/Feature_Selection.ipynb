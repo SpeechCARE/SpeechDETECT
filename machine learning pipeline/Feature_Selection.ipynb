{
  "cells": [
    {
      "cell_type": "code",
      "execution_count": 1,
      "metadata": {
        "colab": {
          "base_uri": "https://localhost:8080/"
        },
        "id": "6u0vsmAqN87d",
        "outputId": "73019145-ebeb-4d6d-e0d0-03c5276cb750"
      },
      "outputs": [
        {
          "output_type": "stream",
          "name": "stdout",
          "text": [
            "Mounted at /content/gdrive\n"
          ]
        }
      ],
      "source": [
        "from google.colab import drive\n",
        "drive.mount('/content/gdrive', force_remount=False)"
      ]
    },
    {
      "cell_type": "code",
      "source": [
        "from IPython.display import clear_output"
      ],
      "metadata": {
        "id": "PWlD88piWL0-"
      },
      "execution_count": 2,
      "outputs": []
    },
    {
      "cell_type": "code",
      "execution_count": 3,
      "metadata": {
        "id": "3jgIPsgY5rfx"
      },
      "outputs": [],
      "source": [
        "# !pip install torch torchvision\n",
        "!pip install scikit-learn\n",
        "!pip install openpyxl\n",
        "!pip install lassonet\n",
        "clear_output()"
      ]
    },
    {
      "cell_type": "code",
      "source": [
        "import numpy as np\n",
        "import pandas as pd\n",
        "import matplotlib.pyplot as plt\n",
        "from matplotlib.colors import LinearSegmentedColormap\n",
        "\n",
        "import math\n",
        "\n",
        "import torch\n",
        "import torch.nn as nn\n",
        "import torch.optim as optim\n",
        "from torch.utils.data import DataLoader, TensorDataset\n",
        "\n",
        "from sklearn.preprocessing import StandardScaler, MinMaxScaler\n",
        "from sklearn.metrics import f1_score\n",
        "from sklearn.metrics import roc_auc_score\n",
        "from sklearn.decomposition import PCA\n",
        "from sklearn.svm import SVC, LinearSVC\n",
        "from sklearn.feature_selection import SelectFromModel\n",
        "\n",
        "from lassonet import LassoNetClassifier\n",
        "\n"
      ],
      "metadata": {
        "id": "ACYoD5OpQA8M"
      },
      "execution_count": 4,
      "outputs": []
    },
    {
      "cell_type": "markdown",
      "source": [
        "# Cloning JMIM"
      ],
      "metadata": {
        "id": "3miRU3XlRfp9"
      }
    },
    {
      "cell_type": "code",
      "source": [
        "!git clone -q https://github.com/danielhomola/mifs.git\n",
        "%cd /content/mifs/\n",
        "!pip install -q ."
      ],
      "metadata": {
        "colab": {
          "base_uri": "https://localhost:8080/"
        },
        "id": "M8Yc03foRaJu",
        "outputId": "9f31e937-e2ed-41bb-8767-31665873f9da"
      },
      "execution_count": 33,
      "outputs": [
        {
          "output_type": "stream",
          "name": "stdout",
          "text": [
            "/content/mifs\n",
            "  Preparing metadata (setup.py) ... \u001b[?25l\u001b[?25hdone\n",
            "  Building wheel for mifs (setup.py) ... \u001b[?25l\u001b[?25hdone\n"
          ]
        }
      ]
    },
    {
      "cell_type": "code",
      "source": [
        "import mifs"
      ],
      "metadata": {
        "id": "122CT8unRcoR"
      },
      "execution_count": 35,
      "outputs": []
    },
    {
      "cell_type": "markdown",
      "source": [
        "# Load data"
      ],
      "metadata": {
        "id": "Qx_VGMd8L5n4"
      }
    },
    {
      "cell_type": "code",
      "source": [
        "def load_data(train_path, test_path):\n",
        "    # Load your data\n",
        "    train_df = pd.read_csv(train_path, header=[0, 1]).fillna(0)\n",
        "    test_df = pd.read_csv(test_path, header=[0, 1]).fillna(0)\n",
        "\n",
        "    train_df.replace([np.inf, -np.inf], 0, inplace=True)\n",
        "    test_df.replace([np.inf, -np.inf], 0, inplace=True)\n",
        "\n",
        "    return train_df, test_df\n",
        "\n",
        "\n",
        "def to_array(train_df, test_df, group=False):\n",
        "    if not group:\n",
        "        train_df.columns = train_df.columns.droplevel(level=0)\n",
        "        test_df.columns = test_df.columns.droplevel(level=0)\n",
        "\n",
        "    # Prepare the datasets\n",
        "    X_train = train_df.drop(['label', 'filename'], axis=1).values\n",
        "    y_train = train_df['label'].values\n",
        "    X_val = test_df.drop(['label', 'filename'], axis=1).values\n",
        "    y_val = test_df['label'].values\n",
        "\n",
        "    return X_train, y_train, X_val, y_val\n",
        "\n",
        "def to_array_2(train_df, test_df, group=False):\n",
        "    if not group:\n",
        "        train_df.columns = train_df.columns.droplevel(level=0)\n",
        "        test_df.columns = test_df.columns.droplevel(level=0)\n",
        "\n",
        "    # Prepare the datasets\n",
        "    X_train = train_df.values\n",
        "    X_val = test_df.values\n",
        "\n",
        "    return X_train, X_val\n",
        "\n",
        "\n",
        "def stylize(df, column_name):\n",
        "    def color_gradient(val, min_val, max_val):\n",
        "        # Normalize value\n",
        "        normalized = (val - min_val) / ((max_val - min_val)+5e-12)\n",
        "        # Calculate green intensity\n",
        "        green_intensity = int(255 * normalized)\n",
        "        return f'background-color: rgb({255 - green_intensity}, {255}, {255 - green_intensity})'\n",
        "\n",
        "    #\n",
        "    # Apply the color mapping\n",
        "    styled_df = df.style.applymap(lambda x: color_gradient(x, df[column_name].min(), df[column_name].max()))\n",
        "    return styled_df\n"
      ],
      "metadata": {
        "id": "6IdCf9WFRtsb"
      },
      "execution_count": 5,
      "outputs": []
    },
    {
      "cell_type": "code",
      "source": [
        "def svm(X_train, y_train, X_test, y_test):\n",
        "    clf = SVC()\n",
        "    clf.fit(X_train, y_train)\n",
        "    all_predictions = clf.predict(X_test)\n",
        "    f1 = f1_score(y_test, all_predictions)\n",
        "\n",
        "    return f1"
      ],
      "metadata": {
        "id": "6AVY2yazWjej"
      },
      "execution_count": 6,
      "outputs": []
    },
    {
      "cell_type": "markdown",
      "source": [
        "# Feature Selection"
      ],
      "metadata": {
        "id": "Qy3C_tOCLzj4"
      }
    },
    {
      "cell_type": "markdown",
      "source": [
        "**1. All features**"
      ],
      "metadata": {
        "id": "rAvym_P5X68X"
      }
    },
    {
      "cell_type": "code",
      "source": [
        "def replace_outliers_with_average(data):\n",
        "    rows, cols = data.shape\n",
        "    for col in range(cols):\n",
        "        column_data = data[:, col]\n",
        "        Q1 = np.quantile(column_data, 0.01)\n",
        "        Q3 = np.quantile(column_data, 0.99)\n",
        "        # IQR = Q3 - Q1\n",
        "        lower_bound = Q1# - 1.5 * IQR\n",
        "        upper_bound = Q3# + 1.5 * IQR\n",
        "\n",
        "        # Identify outliers\n",
        "        outliers_mask = (column_data < lower_bound) | (column_data > upper_bound)\n",
        "\n",
        "        # Calculate the average of non-outliers\n",
        "        non_outliers_avg = column_data[~outliers_mask].mean()\n",
        "        # print(non_outliers_avg)\n",
        "\n",
        "        # Replace outliers with the average of non-outliers\n",
        "        data[outliers_mask, col] = non_outliers_avg\n",
        "\n",
        "    return data"
      ],
      "metadata": {
        "id": "dv_0BviBC9pS"
      },
      "execution_count": 7,
      "outputs": []
    },
    {
      "cell_type": "code",
      "execution_count": 8,
      "metadata": {
        "id": "XOsZRX-75tD3"
      },
      "outputs": [],
      "source": [
        "train_path = '/content/gdrive/MyDrive/speech_analysis/train_with_groups.csv'\n",
        "test_path = '/content/gdrive/MyDrive/speech_analysis/test_with_groups.csv'\n",
        "\n",
        "train_df, test_df = load_data(train_path, test_path)\n",
        "X_train_all_features, y_train, X_test_all_features, y_test = to_array(train_df.copy(), test_df.copy(), group=False)\n",
        "group_names = set(train_df.columns.droplevel(level=1))\n",
        "group_names.remove(\"Info\")\n",
        "feature_names = train_df.columns.droplevel(level=0).tolist()[:-2]\n",
        "\n",
        "\n",
        "# X_train_all_features = replace_outliers_with_average(X_train_all_features.copy())\n",
        "# X_test_all_features = replace_outliers_with_average(X_test_all_features.copy())\n",
        "# Normalize features\n",
        "scaler = MinMaxScaler()\n",
        "X_train_all_features = scaler.fit_transform(X_train_all_features)\n",
        "X_test_all_features = scaler.transform(X_test_all_features)"
      ]
    },
    {
      "cell_type": "code",
      "source": [
        "feature_importances_df = pd.DataFrame(columns=train_df.columns[:-2])"
      ],
      "metadata": {
        "id": "NF03qyWY2fs1"
      },
      "execution_count": 9,
      "outputs": []
    },
    {
      "cell_type": "code",
      "source": [
        "X_train_all_features.shape"
      ],
      "metadata": {
        "colab": {
          "base_uri": "https://localhost:8080/"
        },
        "id": "GWG2dbcVFspB",
        "outputId": "8ea2110c-1553-4245-a63b-cae3412dc1ac"
      },
      "execution_count": 10,
      "outputs": [
        {
          "output_type": "execute_result",
          "data": {
            "text/plain": [
              "(166, 6859)"
            ]
          },
          "metadata": {},
          "execution_count": 10
        }
      ]
    },
    {
      "cell_type": "code",
      "source": [
        "X_test_all_features.shape"
      ],
      "metadata": {
        "id": "IdM4PBYdK-Qx",
        "outputId": "1d3b00e9-5e30-4a5b-f8d7-c95020637d9e",
        "colab": {
          "base_uri": "https://localhost:8080/"
        }
      },
      "execution_count": 11,
      "outputs": [
        {
          "output_type": "execute_result",
          "data": {
            "text/plain": [
              "(71, 6859)"
            ]
          },
          "metadata": {},
          "execution_count": 11
        }
      ]
    },
    {
      "cell_type": "markdown",
      "source": [
        "**2. PCA**"
      ],
      "metadata": {
        "id": "LzSIZV4FX-vH"
      }
    },
    {
      "cell_type": "code",
      "source": [
        "# 129 150 166\n",
        "pca = PCA(n_components=166)\n",
        "X_train_pca = pca.fit_transform(X_train_all_features)\n",
        "X_test_pca = pca.transform(X_test_all_features)"
      ],
      "metadata": {
        "id": "ijFRK21UXX14"
      },
      "execution_count": 12,
      "outputs": []
    },
    {
      "cell_type": "markdown",
      "source": [
        "**3. JMIM**"
      ],
      "metadata": {
        "id": "W1He1zx_Yck7"
      }
    },
    {
      "cell_type": "code",
      "source": [
        "def jmim(df_eg, y_train):\n",
        "    t = MinMaxScaler()\n",
        "    X_eg_t = t.fit_transform(df_eg.to_numpy())\n",
        "\n",
        "    MIFS1 = mifs.MutualInformationFeatureSelector(method='JMIM', k=3, n_features=\"auto\", verbose=0)\n",
        "    MIFS1.fit(X_eg_t, y_train.astype(int))\n",
        "\n",
        "    return MIFS1.ranking_, MIFS1.mi_"
      ],
      "metadata": {
        "id": "uguRjVnARr9X"
      },
      "execution_count": 37,
      "outputs": []
    },
    {
      "cell_type": "code",
      "source": [
        "np.bool = bool"
      ],
      "metadata": {
        "id": "RHuG2kXgWTMP"
      },
      "execution_count": 39,
      "outputs": []
    },
    {
      "cell_type": "code",
      "source": [
        "df_eg_copy = train_df.copy()\n",
        "df_eg_copy = df_eg_copy.drop([\"Info\"], axis=1)\n",
        "group_list = df_eg_copy.columns.droplevel(level=1)\n",
        "df_eg_copy.columns = df_eg_copy.columns.droplevel(level=0)\n",
        "\n",
        "ranking, mi = jmim(df_eg_copy, y_train)\n",
        "\n",
        "selected_columns = [(group, feature_name) for group, feature_name in zip(group_list[ranking], df_eg_copy.columns[ranking])]"
      ],
      "metadata": {
        "colab": {
          "base_uri": "https://localhost:8080/"
        },
        "id": "mbIpEE8lRu6-",
        "outputId": "0af2ac8f-8baf-45c8-a2b5-6ce106dc22b1"
      },
      "execution_count": 52,
      "outputs": [
        {
          "output_type": "stream",
          "name": "stderr",
          "text": [
            "<ipython-input-52-b9794a7b8fbb>:2: PerformanceWarning: dropping on a non-lexsorted multi-index without a level parameter may impact performance.\n",
            "  df_eg_copy = df_eg_copy.drop([\"Info\"], axis=1)\n"
          ]
        }
      ]
    },
    {
      "cell_type": "code",
      "source": [
        "X_train_JMIM = train_df[selected_columns].to_numpy()\n",
        "X_test_JMIM = test_df[selected_columns].to_numpy()\n",
        "\n",
        "scaler = MinMaxScaler()\n",
        "X_train_JMIM = scaler.fit_transform(X_train_JMIM)\n",
        "X_test_JMIM = scaler.transform(X_test_JMIM)"
      ],
      "metadata": {
        "id": "bnKYsfIvYcOs"
      },
      "execution_count": 53,
      "outputs": []
    },
    {
      "cell_type": "markdown",
      "source": [
        "**4. Lasso (L1 Regulizer)**"
      ],
      "metadata": {
        "id": "sDkJchnkYKkt"
      }
    },
    {
      "cell_type": "code",
      "source": [
        "def lasso(X_train, X_test, y_train, ratio=1):\n",
        "    lsvc = LinearSVC(C=ratio, penalty=\"l1\", dual=False).fit(X_train, y_train)\n",
        "\n",
        "    model = SelectFromModel(lsvc, prefit=True)\n",
        "    X_train_lasso = model.transform(X_train)\n",
        "    X_test_lasso = model.transform(X_test)\n",
        "\n",
        "    return X_train_lasso, X_test_lasso, np.abs(lsvc.coef_)"
      ],
      "metadata": {
        "id": "qYTJ20Z-XlFB"
      },
      "execution_count": 13,
      "outputs": []
    },
    {
      "cell_type": "code",
      "source": [
        "for group in group_names:\n",
        "    X_train, X_test = to_array_2(train_df[group].copy(), test_df[group].copy(), group=True)\n",
        "\n",
        "    scaler = MinMaxScaler()\n",
        "    X_train = scaler.fit_transform(X_train)\n",
        "    X_test = scaler.transform(X_test)\n",
        "\n",
        "    X_train_lasso, X_test_lasso, feature_importances = lasso(X_train, X_test, y_train)\n",
        "\n",
        "    selected_columns = [(group, feature_name) for feature_name in train_df[group].columns]\n",
        "    feature_importances_df.loc[\"LASSO_GP_Based\", selected_columns] = feature_importances.reshape(-1)"
      ],
      "metadata": {
        "id": "Aif3dqh41Ula",
        "colab": {
          "base_uri": "https://localhost:8080/"
        },
        "outputId": "b1f62bfb-f19f-4077-a70a-575cd36d09e4"
      },
      "execution_count": 14,
      "outputs": [
        {
          "output_type": "stream",
          "name": "stderr",
          "text": [
            "/usr/local/lib/python3.10/dist-packages/sklearn/svm/_base.py:1235: ConvergenceWarning: Liblinear failed to converge, increase the number of iterations.\n",
            "  warnings.warn(\n",
            "/usr/local/lib/python3.10/dist-packages/sklearn/svm/_base.py:1235: ConvergenceWarning: Liblinear failed to converge, increase the number of iterations.\n",
            "  warnings.warn(\n",
            "/usr/local/lib/python3.10/dist-packages/sklearn/svm/_base.py:1235: ConvergenceWarning: Liblinear failed to converge, increase the number of iterations.\n",
            "  warnings.warn(\n",
            "/usr/local/lib/python3.10/dist-packages/sklearn/svm/_base.py:1235: ConvergenceWarning: Liblinear failed to converge, increase the number of iterations.\n",
            "  warnings.warn(\n",
            "/usr/local/lib/python3.10/dist-packages/sklearn/svm/_base.py:1235: ConvergenceWarning: Liblinear failed to converge, increase the number of iterations.\n",
            "  warnings.warn(\n",
            "/usr/local/lib/python3.10/dist-packages/sklearn/svm/_base.py:1235: ConvergenceWarning: Liblinear failed to converge, increase the number of iterations.\n",
            "  warnings.warn(\n"
          ]
        }
      ]
    },
    {
      "cell_type": "code",
      "source": [
        "X_train_lasso, X_test_lasso, feature_importances = lasso(X_train_all_features, X_test_all_features, y_train)\n",
        "feature_importances_df.loc[\"LASSO\", :] = feature_importances"
      ],
      "metadata": {
        "colab": {
          "base_uri": "https://localhost:8080/"
        },
        "id": "_ZkfgxhiEL0L",
        "outputId": "3caf0091-bff6-4e87-fa31-a67d320836ba"
      },
      "execution_count": 15,
      "outputs": [
        {
          "output_type": "stream",
          "name": "stderr",
          "text": [
            "/usr/local/lib/python3.10/dist-packages/sklearn/svm/_base.py:1235: ConvergenceWarning: Liblinear failed to converge, increase the number of iterations.\n",
            "  warnings.warn(\n"
          ]
        }
      ]
    },
    {
      "cell_type": "code",
      "source": [
        "feature_importances_df"
      ],
      "metadata": {
        "colab": {
          "base_uri": "https://localhost:8080/",
          "height": 191
        },
        "id": "NhZqePO4Eaiz",
        "outputId": "1f38ead8-838c-4533-8b4f-dcc4067bddda"
      },
      "execution_count": 16,
      "outputs": [
        {
          "output_type": "execute_result",
          "data": {
            "text/plain": [
              "                   Pausing behavior                                      \\\n",
              "               count_pause_segments hesitation_rate num_words_to_pauses   \n",
              "LASSO_GP_Based             0.613281        1.483391            0.472253   \n",
              "LASSO                           0.0         0.25371                 0.0   \n",
              "\n",
              "                                                                  \\\n",
              "               pasue_speech_ratio pause_length pause_lengths_avg   \n",
              "LASSO_GP_Based                0.0     1.246139               0.0   \n",
              "LASSO                         0.0     0.070553               0.0   \n",
              "\n",
              "                                                                              \\\n",
              "               pause_speech_duration_ratio pause_to_syllable pause_to_tokens   \n",
              "LASSO_GP_Based                    0.242905          0.952145             0.0   \n",
              "LASSO                                  0.0               0.0             0.0   \n",
              "\n",
              "                                        ...                   Complexity  \\\n",
              "               pause_totallength_ratio  ... AMP_ENTROPY_sma_de_quartile2   \n",
              "LASSO_GP_Based                1.607245  ...                     1.599886   \n",
              "LASSO                              0.0  ...                          0.0   \n",
              "\n",
              "                                                                       \\\n",
              "               AMP_ENTROPY_sma_de_quartile3 AMP_ENTROPY_sma_de_iqr1_2   \n",
              "LASSO_GP_Based                          0.0                       0.0   \n",
              "LASSO                                   0.0                       0.0   \n",
              "\n",
              "                                                                    \\\n",
              "               AMP_ENTROPY_sma_de_iqr2_3 AMP_ENTROPY_sma_de_iqr1_3   \n",
              "LASSO_GP_Based                       0.0                       0.0   \n",
              "LASSO                                0.0                       0.0   \n",
              "\n",
              "                                                                               \\\n",
              "               AMP_ENTROPY_sma_de_percentile1 AMP_ENTROPY_sma_de_percentile99   \n",
              "LASSO_GP_Based                            0.0                             0.0   \n",
              "LASSO                                     0.0                             0.0   \n",
              "\n",
              "                                                \\\n",
              "               AMP_ENTROPY_sma_de_pctlrange0_1   \n",
              "LASSO_GP_Based                             0.0   \n",
              "LASSO                                      0.0   \n",
              "\n",
              "                                                 \\\n",
              "               AMP_ENTROPY_sma_de_upleveltime75   \n",
              "LASSO_GP_Based                              0.0   \n",
              "LASSO                                       0.0   \n",
              "\n",
              "                                                 \n",
              "               AMP_ENTROPY_sma_de_upleveltime90  \n",
              "LASSO_GP_Based                          0.36727  \n",
              "LASSO                                       0.0  \n",
              "\n",
              "[2 rows x 6859 columns]"
            ],
            "text/html": [
              "\n",
              "  <div id=\"df-10038775-34a1-4cb9-88c9-549f856c83ad\" class=\"colab-df-container\">\n",
              "    <div>\n",
              "<style scoped>\n",
              "    .dataframe tbody tr th:only-of-type {\n",
              "        vertical-align: middle;\n",
              "    }\n",
              "\n",
              "    .dataframe tbody tr th {\n",
              "        vertical-align: top;\n",
              "    }\n",
              "\n",
              "    .dataframe thead tr th {\n",
              "        text-align: left;\n",
              "    }\n",
              "</style>\n",
              "<table border=\"1\" class=\"dataframe\">\n",
              "  <thead>\n",
              "    <tr>\n",
              "      <th></th>\n",
              "      <th colspan=\"10\" halign=\"left\">Pausing behavior</th>\n",
              "      <th>...</th>\n",
              "      <th colspan=\"10\" halign=\"left\">Complexity</th>\n",
              "    </tr>\n",
              "    <tr>\n",
              "      <th></th>\n",
              "      <th>count_pause_segments</th>\n",
              "      <th>hesitation_rate</th>\n",
              "      <th>num_words_to_pauses</th>\n",
              "      <th>pasue_speech_ratio</th>\n",
              "      <th>pause_length</th>\n",
              "      <th>pause_lengths_avg</th>\n",
              "      <th>pause_speech_duration_ratio</th>\n",
              "      <th>pause_to_syllable</th>\n",
              "      <th>pause_to_tokens</th>\n",
              "      <th>pause_totallength_ratio</th>\n",
              "      <th>...</th>\n",
              "      <th>AMP_ENTROPY_sma_de_quartile2</th>\n",
              "      <th>AMP_ENTROPY_sma_de_quartile3</th>\n",
              "      <th>AMP_ENTROPY_sma_de_iqr1_2</th>\n",
              "      <th>AMP_ENTROPY_sma_de_iqr2_3</th>\n",
              "      <th>AMP_ENTROPY_sma_de_iqr1_3</th>\n",
              "      <th>AMP_ENTROPY_sma_de_percentile1</th>\n",
              "      <th>AMP_ENTROPY_sma_de_percentile99</th>\n",
              "      <th>AMP_ENTROPY_sma_de_pctlrange0_1</th>\n",
              "      <th>AMP_ENTROPY_sma_de_upleveltime75</th>\n",
              "      <th>AMP_ENTROPY_sma_de_upleveltime90</th>\n",
              "    </tr>\n",
              "  </thead>\n",
              "  <tbody>\n",
              "    <tr>\n",
              "      <th>LASSO_GP_Based</th>\n",
              "      <td>0.613281</td>\n",
              "      <td>1.483391</td>\n",
              "      <td>0.472253</td>\n",
              "      <td>0.0</td>\n",
              "      <td>1.246139</td>\n",
              "      <td>0.0</td>\n",
              "      <td>0.242905</td>\n",
              "      <td>0.952145</td>\n",
              "      <td>0.0</td>\n",
              "      <td>1.607245</td>\n",
              "      <td>...</td>\n",
              "      <td>1.599886</td>\n",
              "      <td>0.0</td>\n",
              "      <td>0.0</td>\n",
              "      <td>0.0</td>\n",
              "      <td>0.0</td>\n",
              "      <td>0.0</td>\n",
              "      <td>0.0</td>\n",
              "      <td>0.0</td>\n",
              "      <td>0.0</td>\n",
              "      <td>0.36727</td>\n",
              "    </tr>\n",
              "    <tr>\n",
              "      <th>LASSO</th>\n",
              "      <td>0.0</td>\n",
              "      <td>0.25371</td>\n",
              "      <td>0.0</td>\n",
              "      <td>0.0</td>\n",
              "      <td>0.070553</td>\n",
              "      <td>0.0</td>\n",
              "      <td>0.0</td>\n",
              "      <td>0.0</td>\n",
              "      <td>0.0</td>\n",
              "      <td>0.0</td>\n",
              "      <td>...</td>\n",
              "      <td>0.0</td>\n",
              "      <td>0.0</td>\n",
              "      <td>0.0</td>\n",
              "      <td>0.0</td>\n",
              "      <td>0.0</td>\n",
              "      <td>0.0</td>\n",
              "      <td>0.0</td>\n",
              "      <td>0.0</td>\n",
              "      <td>0.0</td>\n",
              "      <td>0.0</td>\n",
              "    </tr>\n",
              "  </tbody>\n",
              "</table>\n",
              "<p>2 rows × 6859 columns</p>\n",
              "</div>\n",
              "    <div class=\"colab-df-buttons\">\n",
              "\n",
              "  <div class=\"colab-df-container\">\n",
              "    <button class=\"colab-df-convert\" onclick=\"convertToInteractive('df-10038775-34a1-4cb9-88c9-549f856c83ad')\"\n",
              "            title=\"Convert this dataframe to an interactive table.\"\n",
              "            style=\"display:none;\">\n",
              "\n",
              "  <svg xmlns=\"http://www.w3.org/2000/svg\" height=\"24px\" viewBox=\"0 -960 960 960\">\n",
              "    <path d=\"M120-120v-720h720v720H120Zm60-500h600v-160H180v160Zm220 220h160v-160H400v160Zm0 220h160v-160H400v160ZM180-400h160v-160H180v160Zm440 0h160v-160H620v160ZM180-180h160v-160H180v160Zm440 0h160v-160H620v160Z\"/>\n",
              "  </svg>\n",
              "    </button>\n",
              "\n",
              "  <style>\n",
              "    .colab-df-container {\n",
              "      display:flex;\n",
              "      gap: 12px;\n",
              "    }\n",
              "\n",
              "    .colab-df-convert {\n",
              "      background-color: #E8F0FE;\n",
              "      border: none;\n",
              "      border-radius: 50%;\n",
              "      cursor: pointer;\n",
              "      display: none;\n",
              "      fill: #1967D2;\n",
              "      height: 32px;\n",
              "      padding: 0 0 0 0;\n",
              "      width: 32px;\n",
              "    }\n",
              "\n",
              "    .colab-df-convert:hover {\n",
              "      background-color: #E2EBFA;\n",
              "      box-shadow: 0px 1px 2px rgba(60, 64, 67, 0.3), 0px 1px 3px 1px rgba(60, 64, 67, 0.15);\n",
              "      fill: #174EA6;\n",
              "    }\n",
              "\n",
              "    .colab-df-buttons div {\n",
              "      margin-bottom: 4px;\n",
              "    }\n",
              "\n",
              "    [theme=dark] .colab-df-convert {\n",
              "      background-color: #3B4455;\n",
              "      fill: #D2E3FC;\n",
              "    }\n",
              "\n",
              "    [theme=dark] .colab-df-convert:hover {\n",
              "      background-color: #434B5C;\n",
              "      box-shadow: 0px 1px 3px 1px rgba(0, 0, 0, 0.15);\n",
              "      filter: drop-shadow(0px 1px 2px rgba(0, 0, 0, 0.3));\n",
              "      fill: #FFFFFF;\n",
              "    }\n",
              "  </style>\n",
              "\n",
              "    <script>\n",
              "      const buttonEl =\n",
              "        document.querySelector('#df-10038775-34a1-4cb9-88c9-549f856c83ad button.colab-df-convert');\n",
              "      buttonEl.style.display =\n",
              "        google.colab.kernel.accessAllowed ? 'block' : 'none';\n",
              "\n",
              "      async function convertToInteractive(key) {\n",
              "        const element = document.querySelector('#df-10038775-34a1-4cb9-88c9-549f856c83ad');\n",
              "        const dataTable =\n",
              "          await google.colab.kernel.invokeFunction('convertToInteractive',\n",
              "                                                    [key], {});\n",
              "        if (!dataTable) return;\n",
              "\n",
              "        const docLinkHtml = 'Like what you see? Visit the ' +\n",
              "          '<a target=\"_blank\" href=https://colab.research.google.com/notebooks/data_table.ipynb>data table notebook</a>'\n",
              "          + ' to learn more about interactive tables.';\n",
              "        element.innerHTML = '';\n",
              "        dataTable['output_type'] = 'display_data';\n",
              "        await google.colab.output.renderOutput(dataTable, element);\n",
              "        const docLink = document.createElement('div');\n",
              "        docLink.innerHTML = docLinkHtml;\n",
              "        element.appendChild(docLink);\n",
              "      }\n",
              "    </script>\n",
              "  </div>\n",
              "\n",
              "\n",
              "<div id=\"df-d7eaad26-0776-4a5c-bf50-0b3a13b8db75\">\n",
              "  <button class=\"colab-df-quickchart\" onclick=\"quickchart('df-d7eaad26-0776-4a5c-bf50-0b3a13b8db75')\"\n",
              "            title=\"Suggest charts\"\n",
              "            style=\"display:none;\">\n",
              "\n",
              "<svg xmlns=\"http://www.w3.org/2000/svg\" height=\"24px\"viewBox=\"0 0 24 24\"\n",
              "     width=\"24px\">\n",
              "    <g>\n",
              "        <path d=\"M19 3H5c-1.1 0-2 .9-2 2v14c0 1.1.9 2 2 2h14c1.1 0 2-.9 2-2V5c0-1.1-.9-2-2-2zM9 17H7v-7h2v7zm4 0h-2V7h2v10zm4 0h-2v-4h2v4z\"/>\n",
              "    </g>\n",
              "</svg>\n",
              "  </button>\n",
              "\n",
              "<style>\n",
              "  .colab-df-quickchart {\n",
              "      --bg-color: #E8F0FE;\n",
              "      --fill-color: #1967D2;\n",
              "      --hover-bg-color: #E2EBFA;\n",
              "      --hover-fill-color: #174EA6;\n",
              "      --disabled-fill-color: #AAA;\n",
              "      --disabled-bg-color: #DDD;\n",
              "  }\n",
              "\n",
              "  [theme=dark] .colab-df-quickchart {\n",
              "      --bg-color: #3B4455;\n",
              "      --fill-color: #D2E3FC;\n",
              "      --hover-bg-color: #434B5C;\n",
              "      --hover-fill-color: #FFFFFF;\n",
              "      --disabled-bg-color: #3B4455;\n",
              "      --disabled-fill-color: #666;\n",
              "  }\n",
              "\n",
              "  .colab-df-quickchart {\n",
              "    background-color: var(--bg-color);\n",
              "    border: none;\n",
              "    border-radius: 50%;\n",
              "    cursor: pointer;\n",
              "    display: none;\n",
              "    fill: var(--fill-color);\n",
              "    height: 32px;\n",
              "    padding: 0;\n",
              "    width: 32px;\n",
              "  }\n",
              "\n",
              "  .colab-df-quickchart:hover {\n",
              "    background-color: var(--hover-bg-color);\n",
              "    box-shadow: 0 1px 2px rgba(60, 64, 67, 0.3), 0 1px 3px 1px rgba(60, 64, 67, 0.15);\n",
              "    fill: var(--button-hover-fill-color);\n",
              "  }\n",
              "\n",
              "  .colab-df-quickchart-complete:disabled,\n",
              "  .colab-df-quickchart-complete:disabled:hover {\n",
              "    background-color: var(--disabled-bg-color);\n",
              "    fill: var(--disabled-fill-color);\n",
              "    box-shadow: none;\n",
              "  }\n",
              "\n",
              "  .colab-df-spinner {\n",
              "    border: 2px solid var(--fill-color);\n",
              "    border-color: transparent;\n",
              "    border-bottom-color: var(--fill-color);\n",
              "    animation:\n",
              "      spin 1s steps(1) infinite;\n",
              "  }\n",
              "\n",
              "  @keyframes spin {\n",
              "    0% {\n",
              "      border-color: transparent;\n",
              "      border-bottom-color: var(--fill-color);\n",
              "      border-left-color: var(--fill-color);\n",
              "    }\n",
              "    20% {\n",
              "      border-color: transparent;\n",
              "      border-left-color: var(--fill-color);\n",
              "      border-top-color: var(--fill-color);\n",
              "    }\n",
              "    30% {\n",
              "      border-color: transparent;\n",
              "      border-left-color: var(--fill-color);\n",
              "      border-top-color: var(--fill-color);\n",
              "      border-right-color: var(--fill-color);\n",
              "    }\n",
              "    40% {\n",
              "      border-color: transparent;\n",
              "      border-right-color: var(--fill-color);\n",
              "      border-top-color: var(--fill-color);\n",
              "    }\n",
              "    60% {\n",
              "      border-color: transparent;\n",
              "      border-right-color: var(--fill-color);\n",
              "    }\n",
              "    80% {\n",
              "      border-color: transparent;\n",
              "      border-right-color: var(--fill-color);\n",
              "      border-bottom-color: var(--fill-color);\n",
              "    }\n",
              "    90% {\n",
              "      border-color: transparent;\n",
              "      border-bottom-color: var(--fill-color);\n",
              "    }\n",
              "  }\n",
              "</style>\n",
              "\n",
              "  <script>\n",
              "    async function quickchart(key) {\n",
              "      const quickchartButtonEl =\n",
              "        document.querySelector('#' + key + ' button');\n",
              "      quickchartButtonEl.disabled = true;  // To prevent multiple clicks.\n",
              "      quickchartButtonEl.classList.add('colab-df-spinner');\n",
              "      try {\n",
              "        const charts = await google.colab.kernel.invokeFunction(\n",
              "            'suggestCharts', [key], {});\n",
              "      } catch (error) {\n",
              "        console.error('Error during call to suggestCharts:', error);\n",
              "      }\n",
              "      quickchartButtonEl.classList.remove('colab-df-spinner');\n",
              "      quickchartButtonEl.classList.add('colab-df-quickchart-complete');\n",
              "    }\n",
              "    (() => {\n",
              "      let quickchartButtonEl =\n",
              "        document.querySelector('#df-d7eaad26-0776-4a5c-bf50-0b3a13b8db75 button');\n",
              "      quickchartButtonEl.style.display =\n",
              "        google.colab.kernel.accessAllowed ? 'block' : 'none';\n",
              "    })();\n",
              "  </script>\n",
              "</div>\n",
              "\n",
              "  <div id=\"id_ed1ec87d-ec09-408a-aa6f-2648ce64e2d0\">\n",
              "    <style>\n",
              "      .colab-df-generate {\n",
              "        background-color: #E8F0FE;\n",
              "        border: none;\n",
              "        border-radius: 50%;\n",
              "        cursor: pointer;\n",
              "        display: none;\n",
              "        fill: #1967D2;\n",
              "        height: 32px;\n",
              "        padding: 0 0 0 0;\n",
              "        width: 32px;\n",
              "      }\n",
              "\n",
              "      .colab-df-generate:hover {\n",
              "        background-color: #E2EBFA;\n",
              "        box-shadow: 0px 1px 2px rgba(60, 64, 67, 0.3), 0px 1px 3px 1px rgba(60, 64, 67, 0.15);\n",
              "        fill: #174EA6;\n",
              "      }\n",
              "\n",
              "      [theme=dark] .colab-df-generate {\n",
              "        background-color: #3B4455;\n",
              "        fill: #D2E3FC;\n",
              "      }\n",
              "\n",
              "      [theme=dark] .colab-df-generate:hover {\n",
              "        background-color: #434B5C;\n",
              "        box-shadow: 0px 1px 3px 1px rgba(0, 0, 0, 0.15);\n",
              "        filter: drop-shadow(0px 1px 2px rgba(0, 0, 0, 0.3));\n",
              "        fill: #FFFFFF;\n",
              "      }\n",
              "    </style>\n",
              "    <button class=\"colab-df-generate\" onclick=\"generateWithVariable('feature_importances_df')\"\n",
              "            title=\"Generate code using this dataframe.\"\n",
              "            style=\"display:none;\">\n",
              "\n",
              "  <svg xmlns=\"http://www.w3.org/2000/svg\" height=\"24px\"viewBox=\"0 0 24 24\"\n",
              "       width=\"24px\">\n",
              "    <path d=\"M7,19H8.4L18.45,9,17,7.55,7,17.6ZM5,21V16.75L18.45,3.32a2,2,0,0,1,2.83,0l1.4,1.43a1.91,1.91,0,0,1,.58,1.4,1.91,1.91,0,0,1-.58,1.4L9.25,21ZM18.45,9,17,7.55Zm-12,3A5.31,5.31,0,0,0,4.9,8.1,5.31,5.31,0,0,0,1,6.5,5.31,5.31,0,0,0,4.9,4.9,5.31,5.31,0,0,0,6.5,1,5.31,5.31,0,0,0,8.1,4.9,5.31,5.31,0,0,0,12,6.5,5.46,5.46,0,0,0,6.5,12Z\"/>\n",
              "  </svg>\n",
              "    </button>\n",
              "    <script>\n",
              "      (() => {\n",
              "      const buttonEl =\n",
              "        document.querySelector('#id_ed1ec87d-ec09-408a-aa6f-2648ce64e2d0 button.colab-df-generate');\n",
              "      buttonEl.style.display =\n",
              "        google.colab.kernel.accessAllowed ? 'block' : 'none';\n",
              "\n",
              "      buttonEl.onclick = () => {\n",
              "        google.colab.notebook.generateWithVariable('feature_importances_df');\n",
              "      }\n",
              "      })();\n",
              "    </script>\n",
              "  </div>\n",
              "\n",
              "    </div>\n",
              "  </div>\n"
            ],
            "application/vnd.google.colaboratory.intrinsic+json": {
              "type": "dataframe",
              "variable_name": "feature_importances_df"
            }
          },
          "metadata": {},
          "execution_count": 16
        }
      ]
    },
    {
      "cell_type": "markdown",
      "source": [
        "**5. Lassonet**"
      ],
      "metadata": {
        "id": "ueI30fd3aQ84"
      }
    },
    {
      "cell_type": "code",
      "source": [
        "def lasso_net(X_train, X_test, y_train):\n",
        "    model = LassoNetClassifier(M=10, hidden_dims=(50,), path_multiplier=1.1, verbose=False)\n",
        "    path = model.path(X_train, y_train, return_state_dicts=True)\n",
        "\n",
        "    return model.feature_importances_.numpy()"
      ],
      "metadata": {
        "id": "dibFXSr5aQl9"
      },
      "execution_count": 17,
      "outputs": []
    },
    {
      "cell_type": "code",
      "source": [
        "for group in group_names:\n",
        "    X_train, X_test = to_array_2(train_df[group].copy(), test_df[group].copy(), group=True)\n",
        "\n",
        "    scaler = MinMaxScaler()\n",
        "    X_train = scaler.fit_transform(X_train)\n",
        "    X_test = scaler.transform(X_test)\n",
        "\n",
        "    feature_importances = lasso_net(X_train, X_test, y_train)\n",
        "\n",
        "    selected_columns = [(group, feature_name) for feature_name in train_df[group].columns]\n",
        "    feature_importances_df.loc[\"LASSONET_GP_Based\", selected_columns] = feature_importances.reshape(-1)"
      ],
      "metadata": {
        "id": "_muo-zbYE77d"
      },
      "execution_count": 18,
      "outputs": []
    },
    {
      "cell_type": "code",
      "source": [
        "feature_importances = lasso_net(X_train_all_features, X_test_all_features, y_train)\n",
        "feature_importances_df.loc[\"LASSONET\", :] = feature_importances"
      ],
      "metadata": {
        "id": "AS7sIWx2GFx-"
      },
      "execution_count": 19,
      "outputs": []
    },
    {
      "cell_type": "code",
      "source": [
        "feature_importances_df"
      ],
      "metadata": {
        "colab": {
          "base_uri": "https://localhost:8080/",
          "height": 253
        },
        "id": "DaIkaxchat1R",
        "outputId": "c99fde57-d606-4826-c74d-0a3347054770"
      },
      "execution_count": 20,
      "outputs": [
        {
          "output_type": "execute_result",
          "data": {
            "text/plain": [
              "                      Pausing behavior                                      \\\n",
              "                  count_pause_segments hesitation_rate num_words_to_pauses   \n",
              "LASSO_GP_Based                0.613281        1.483391            0.472253   \n",
              "LASSO                              0.0         0.25371                 0.0   \n",
              "LASSONET_GP_Based           111.424141      163.136078          111.424141   \n",
              "LASSONET                      7.660409       62.357841            5.755379   \n",
              "\n",
              "                                                                     \\\n",
              "                  pasue_speech_ratio pause_length pause_lengths_avg   \n",
              "LASSO_GP_Based                   0.0     1.246139               0.0   \n",
              "LASSO                            0.0     0.070553               0.0   \n",
              "LASSONET_GP_Based          101.29467   134.823212        111.424141   \n",
              "LASSONET                    5.232163    46.850368          6.964009   \n",
              "\n",
              "                                                                 \\\n",
              "                  pause_speech_duration_ratio pause_to_syllable   \n",
              "LASSO_GP_Based                       0.242905          0.952145   \n",
              "LASSO                                     0.0               0.0   \n",
              "LASSONET_GP_Based                  122.566551        122.566551   \n",
              "LASSONET                             4.756512          7.660409   \n",
              "\n",
              "                                                           ...  \\\n",
              "                  pause_to_tokens pause_totallength_ratio  ...   \n",
              "LASSO_GP_Based                0.0                1.607245  ...   \n",
              "LASSO                         0.0                     0.0  ...   \n",
              "LASSONET_GP_Based      111.424141              122.566551  ...   \n",
              "LASSONET                 6.330917                7.660409  ...   \n",
              "\n",
              "                                    Complexity                               \\\n",
              "                  AMP_ENTROPY_sma_de_quartile2 AMP_ENTROPY_sma_de_quartile3   \n",
              "LASSO_GP_Based                        1.599886                          0.0   \n",
              "LASSO                                      0.0                          0.0   \n",
              "LASSONET_GP_Based                    67.411606                    41.857304   \n",
              "LASSONET                              6.964009                     4.324101   \n",
              "\n",
              "                                                                       \\\n",
              "                  AMP_ENTROPY_sma_de_iqr1_2 AMP_ENTROPY_sma_de_iqr2_3   \n",
              "LASSO_GP_Based                          0.0                       0.0   \n",
              "LASSO                                   0.0                       0.0   \n",
              "LASSONET_GP_Based                 46.043034                 46.043034   \n",
              "LASSONET                           5.232163                  4.756512   \n",
              "\n",
              "                                                                            \\\n",
              "                  AMP_ENTROPY_sma_de_iqr1_3 AMP_ENTROPY_sma_de_percentile1   \n",
              "LASSO_GP_Based                          0.0                            0.0   \n",
              "LASSO                                   0.0                            0.0   \n",
              "LASSONET_GP_Based                 34.592812                      41.857304   \n",
              "LASSONET                           4.324101                       4.756512   \n",
              "\n",
              "                                                   \\\n",
              "                  AMP_ENTROPY_sma_de_percentile99   \n",
              "LASSO_GP_Based                                0.0   \n",
              "LASSO                                         0.0   \n",
              "LASSONET_GP_Based                       34.592812   \n",
              "LASSONET                                 5.232163   \n",
              "\n",
              "                                                   \\\n",
              "                  AMP_ENTROPY_sma_de_pctlrange0_1   \n",
              "LASSO_GP_Based                                0.0   \n",
              "LASSO                                         0.0   \n",
              "LASSONET_GP_Based                       41.857304   \n",
              "LASSONET                                 4.756512   \n",
              "\n",
              "                                                    \\\n",
              "                  AMP_ENTROPY_sma_de_upleveltime75   \n",
              "LASSO_GP_Based                                 0.0   \n",
              "LASSO                                          0.0   \n",
              "LASSONET_GP_Based                        31.448011   \n",
              "LASSONET                                  5.232163   \n",
              "\n",
              "                                                    \n",
              "                  AMP_ENTROPY_sma_de_upleveltime90  \n",
              "LASSO_GP_Based                             0.36727  \n",
              "LASSO                                          0.0  \n",
              "LASSONET_GP_Based                         55.71207  \n",
              "LASSONET                                  5.232163  \n",
              "\n",
              "[4 rows x 6859 columns]"
            ],
            "text/html": [
              "\n",
              "  <div id=\"df-2ba5888f-c811-4a03-802e-e7c5c714b9a9\" class=\"colab-df-container\">\n",
              "    <div>\n",
              "<style scoped>\n",
              "    .dataframe tbody tr th:only-of-type {\n",
              "        vertical-align: middle;\n",
              "    }\n",
              "\n",
              "    .dataframe tbody tr th {\n",
              "        vertical-align: top;\n",
              "    }\n",
              "\n",
              "    .dataframe thead tr th {\n",
              "        text-align: left;\n",
              "    }\n",
              "</style>\n",
              "<table border=\"1\" class=\"dataframe\">\n",
              "  <thead>\n",
              "    <tr>\n",
              "      <th></th>\n",
              "      <th colspan=\"10\" halign=\"left\">Pausing behavior</th>\n",
              "      <th>...</th>\n",
              "      <th colspan=\"10\" halign=\"left\">Complexity</th>\n",
              "    </tr>\n",
              "    <tr>\n",
              "      <th></th>\n",
              "      <th>count_pause_segments</th>\n",
              "      <th>hesitation_rate</th>\n",
              "      <th>num_words_to_pauses</th>\n",
              "      <th>pasue_speech_ratio</th>\n",
              "      <th>pause_length</th>\n",
              "      <th>pause_lengths_avg</th>\n",
              "      <th>pause_speech_duration_ratio</th>\n",
              "      <th>pause_to_syllable</th>\n",
              "      <th>pause_to_tokens</th>\n",
              "      <th>pause_totallength_ratio</th>\n",
              "      <th>...</th>\n",
              "      <th>AMP_ENTROPY_sma_de_quartile2</th>\n",
              "      <th>AMP_ENTROPY_sma_de_quartile3</th>\n",
              "      <th>AMP_ENTROPY_sma_de_iqr1_2</th>\n",
              "      <th>AMP_ENTROPY_sma_de_iqr2_3</th>\n",
              "      <th>AMP_ENTROPY_sma_de_iqr1_3</th>\n",
              "      <th>AMP_ENTROPY_sma_de_percentile1</th>\n",
              "      <th>AMP_ENTROPY_sma_de_percentile99</th>\n",
              "      <th>AMP_ENTROPY_sma_de_pctlrange0_1</th>\n",
              "      <th>AMP_ENTROPY_sma_de_upleveltime75</th>\n",
              "      <th>AMP_ENTROPY_sma_de_upleveltime90</th>\n",
              "    </tr>\n",
              "  </thead>\n",
              "  <tbody>\n",
              "    <tr>\n",
              "      <th>LASSO_GP_Based</th>\n",
              "      <td>0.613281</td>\n",
              "      <td>1.483391</td>\n",
              "      <td>0.472253</td>\n",
              "      <td>0.0</td>\n",
              "      <td>1.246139</td>\n",
              "      <td>0.0</td>\n",
              "      <td>0.242905</td>\n",
              "      <td>0.952145</td>\n",
              "      <td>0.0</td>\n",
              "      <td>1.607245</td>\n",
              "      <td>...</td>\n",
              "      <td>1.599886</td>\n",
              "      <td>0.0</td>\n",
              "      <td>0.0</td>\n",
              "      <td>0.0</td>\n",
              "      <td>0.0</td>\n",
              "      <td>0.0</td>\n",
              "      <td>0.0</td>\n",
              "      <td>0.0</td>\n",
              "      <td>0.0</td>\n",
              "      <td>0.36727</td>\n",
              "    </tr>\n",
              "    <tr>\n",
              "      <th>LASSO</th>\n",
              "      <td>0.0</td>\n",
              "      <td>0.25371</td>\n",
              "      <td>0.0</td>\n",
              "      <td>0.0</td>\n",
              "      <td>0.070553</td>\n",
              "      <td>0.0</td>\n",
              "      <td>0.0</td>\n",
              "      <td>0.0</td>\n",
              "      <td>0.0</td>\n",
              "      <td>0.0</td>\n",
              "      <td>...</td>\n",
              "      <td>0.0</td>\n",
              "      <td>0.0</td>\n",
              "      <td>0.0</td>\n",
              "      <td>0.0</td>\n",
              "      <td>0.0</td>\n",
              "      <td>0.0</td>\n",
              "      <td>0.0</td>\n",
              "      <td>0.0</td>\n",
              "      <td>0.0</td>\n",
              "      <td>0.0</td>\n",
              "    </tr>\n",
              "    <tr>\n",
              "      <th>LASSONET_GP_Based</th>\n",
              "      <td>111.424141</td>\n",
              "      <td>163.136078</td>\n",
              "      <td>111.424141</td>\n",
              "      <td>101.29467</td>\n",
              "      <td>134.823212</td>\n",
              "      <td>111.424141</td>\n",
              "      <td>122.566551</td>\n",
              "      <td>122.566551</td>\n",
              "      <td>111.424141</td>\n",
              "      <td>122.566551</td>\n",
              "      <td>...</td>\n",
              "      <td>67.411606</td>\n",
              "      <td>41.857304</td>\n",
              "      <td>46.043034</td>\n",
              "      <td>46.043034</td>\n",
              "      <td>34.592812</td>\n",
              "      <td>41.857304</td>\n",
              "      <td>34.592812</td>\n",
              "      <td>41.857304</td>\n",
              "      <td>31.448011</td>\n",
              "      <td>55.71207</td>\n",
              "    </tr>\n",
              "    <tr>\n",
              "      <th>LASSONET</th>\n",
              "      <td>7.660409</td>\n",
              "      <td>62.357841</td>\n",
              "      <td>5.755379</td>\n",
              "      <td>5.232163</td>\n",
              "      <td>46.850368</td>\n",
              "      <td>6.964009</td>\n",
              "      <td>4.756512</td>\n",
              "      <td>7.660409</td>\n",
              "      <td>6.330917</td>\n",
              "      <td>7.660409</td>\n",
              "      <td>...</td>\n",
              "      <td>6.964009</td>\n",
              "      <td>4.324101</td>\n",
              "      <td>5.232163</td>\n",
              "      <td>4.756512</td>\n",
              "      <td>4.324101</td>\n",
              "      <td>4.756512</td>\n",
              "      <td>5.232163</td>\n",
              "      <td>4.756512</td>\n",
              "      <td>5.232163</td>\n",
              "      <td>5.232163</td>\n",
              "    </tr>\n",
              "  </tbody>\n",
              "</table>\n",
              "<p>4 rows × 6859 columns</p>\n",
              "</div>\n",
              "    <div class=\"colab-df-buttons\">\n",
              "\n",
              "  <div class=\"colab-df-container\">\n",
              "    <button class=\"colab-df-convert\" onclick=\"convertToInteractive('df-2ba5888f-c811-4a03-802e-e7c5c714b9a9')\"\n",
              "            title=\"Convert this dataframe to an interactive table.\"\n",
              "            style=\"display:none;\">\n",
              "\n",
              "  <svg xmlns=\"http://www.w3.org/2000/svg\" height=\"24px\" viewBox=\"0 -960 960 960\">\n",
              "    <path d=\"M120-120v-720h720v720H120Zm60-500h600v-160H180v160Zm220 220h160v-160H400v160Zm0 220h160v-160H400v160ZM180-400h160v-160H180v160Zm440 0h160v-160H620v160ZM180-180h160v-160H180v160Zm440 0h160v-160H620v160Z\"/>\n",
              "  </svg>\n",
              "    </button>\n",
              "\n",
              "  <style>\n",
              "    .colab-df-container {\n",
              "      display:flex;\n",
              "      gap: 12px;\n",
              "    }\n",
              "\n",
              "    .colab-df-convert {\n",
              "      background-color: #E8F0FE;\n",
              "      border: none;\n",
              "      border-radius: 50%;\n",
              "      cursor: pointer;\n",
              "      display: none;\n",
              "      fill: #1967D2;\n",
              "      height: 32px;\n",
              "      padding: 0 0 0 0;\n",
              "      width: 32px;\n",
              "    }\n",
              "\n",
              "    .colab-df-convert:hover {\n",
              "      background-color: #E2EBFA;\n",
              "      box-shadow: 0px 1px 2px rgba(60, 64, 67, 0.3), 0px 1px 3px 1px rgba(60, 64, 67, 0.15);\n",
              "      fill: #174EA6;\n",
              "    }\n",
              "\n",
              "    .colab-df-buttons div {\n",
              "      margin-bottom: 4px;\n",
              "    }\n",
              "\n",
              "    [theme=dark] .colab-df-convert {\n",
              "      background-color: #3B4455;\n",
              "      fill: #D2E3FC;\n",
              "    }\n",
              "\n",
              "    [theme=dark] .colab-df-convert:hover {\n",
              "      background-color: #434B5C;\n",
              "      box-shadow: 0px 1px 3px 1px rgba(0, 0, 0, 0.15);\n",
              "      filter: drop-shadow(0px 1px 2px rgba(0, 0, 0, 0.3));\n",
              "      fill: #FFFFFF;\n",
              "    }\n",
              "  </style>\n",
              "\n",
              "    <script>\n",
              "      const buttonEl =\n",
              "        document.querySelector('#df-2ba5888f-c811-4a03-802e-e7c5c714b9a9 button.colab-df-convert');\n",
              "      buttonEl.style.display =\n",
              "        google.colab.kernel.accessAllowed ? 'block' : 'none';\n",
              "\n",
              "      async function convertToInteractive(key) {\n",
              "        const element = document.querySelector('#df-2ba5888f-c811-4a03-802e-e7c5c714b9a9');\n",
              "        const dataTable =\n",
              "          await google.colab.kernel.invokeFunction('convertToInteractive',\n",
              "                                                    [key], {});\n",
              "        if (!dataTable) return;\n",
              "\n",
              "        const docLinkHtml = 'Like what you see? Visit the ' +\n",
              "          '<a target=\"_blank\" href=https://colab.research.google.com/notebooks/data_table.ipynb>data table notebook</a>'\n",
              "          + ' to learn more about interactive tables.';\n",
              "        element.innerHTML = '';\n",
              "        dataTable['output_type'] = 'display_data';\n",
              "        await google.colab.output.renderOutput(dataTable, element);\n",
              "        const docLink = document.createElement('div');\n",
              "        docLink.innerHTML = docLinkHtml;\n",
              "        element.appendChild(docLink);\n",
              "      }\n",
              "    </script>\n",
              "  </div>\n",
              "\n",
              "\n",
              "<div id=\"df-9adf558c-6d7f-4db7-8899-50f53c3588f1\">\n",
              "  <button class=\"colab-df-quickchart\" onclick=\"quickchart('df-9adf558c-6d7f-4db7-8899-50f53c3588f1')\"\n",
              "            title=\"Suggest charts\"\n",
              "            style=\"display:none;\">\n",
              "\n",
              "<svg xmlns=\"http://www.w3.org/2000/svg\" height=\"24px\"viewBox=\"0 0 24 24\"\n",
              "     width=\"24px\">\n",
              "    <g>\n",
              "        <path d=\"M19 3H5c-1.1 0-2 .9-2 2v14c0 1.1.9 2 2 2h14c1.1 0 2-.9 2-2V5c0-1.1-.9-2-2-2zM9 17H7v-7h2v7zm4 0h-2V7h2v10zm4 0h-2v-4h2v4z\"/>\n",
              "    </g>\n",
              "</svg>\n",
              "  </button>\n",
              "\n",
              "<style>\n",
              "  .colab-df-quickchart {\n",
              "      --bg-color: #E8F0FE;\n",
              "      --fill-color: #1967D2;\n",
              "      --hover-bg-color: #E2EBFA;\n",
              "      --hover-fill-color: #174EA6;\n",
              "      --disabled-fill-color: #AAA;\n",
              "      --disabled-bg-color: #DDD;\n",
              "  }\n",
              "\n",
              "  [theme=dark] .colab-df-quickchart {\n",
              "      --bg-color: #3B4455;\n",
              "      --fill-color: #D2E3FC;\n",
              "      --hover-bg-color: #434B5C;\n",
              "      --hover-fill-color: #FFFFFF;\n",
              "      --disabled-bg-color: #3B4455;\n",
              "      --disabled-fill-color: #666;\n",
              "  }\n",
              "\n",
              "  .colab-df-quickchart {\n",
              "    background-color: var(--bg-color);\n",
              "    border: none;\n",
              "    border-radius: 50%;\n",
              "    cursor: pointer;\n",
              "    display: none;\n",
              "    fill: var(--fill-color);\n",
              "    height: 32px;\n",
              "    padding: 0;\n",
              "    width: 32px;\n",
              "  }\n",
              "\n",
              "  .colab-df-quickchart:hover {\n",
              "    background-color: var(--hover-bg-color);\n",
              "    box-shadow: 0 1px 2px rgba(60, 64, 67, 0.3), 0 1px 3px 1px rgba(60, 64, 67, 0.15);\n",
              "    fill: var(--button-hover-fill-color);\n",
              "  }\n",
              "\n",
              "  .colab-df-quickchart-complete:disabled,\n",
              "  .colab-df-quickchart-complete:disabled:hover {\n",
              "    background-color: var(--disabled-bg-color);\n",
              "    fill: var(--disabled-fill-color);\n",
              "    box-shadow: none;\n",
              "  }\n",
              "\n",
              "  .colab-df-spinner {\n",
              "    border: 2px solid var(--fill-color);\n",
              "    border-color: transparent;\n",
              "    border-bottom-color: var(--fill-color);\n",
              "    animation:\n",
              "      spin 1s steps(1) infinite;\n",
              "  }\n",
              "\n",
              "  @keyframes spin {\n",
              "    0% {\n",
              "      border-color: transparent;\n",
              "      border-bottom-color: var(--fill-color);\n",
              "      border-left-color: var(--fill-color);\n",
              "    }\n",
              "    20% {\n",
              "      border-color: transparent;\n",
              "      border-left-color: var(--fill-color);\n",
              "      border-top-color: var(--fill-color);\n",
              "    }\n",
              "    30% {\n",
              "      border-color: transparent;\n",
              "      border-left-color: var(--fill-color);\n",
              "      border-top-color: var(--fill-color);\n",
              "      border-right-color: var(--fill-color);\n",
              "    }\n",
              "    40% {\n",
              "      border-color: transparent;\n",
              "      border-right-color: var(--fill-color);\n",
              "      border-top-color: var(--fill-color);\n",
              "    }\n",
              "    60% {\n",
              "      border-color: transparent;\n",
              "      border-right-color: var(--fill-color);\n",
              "    }\n",
              "    80% {\n",
              "      border-color: transparent;\n",
              "      border-right-color: var(--fill-color);\n",
              "      border-bottom-color: var(--fill-color);\n",
              "    }\n",
              "    90% {\n",
              "      border-color: transparent;\n",
              "      border-bottom-color: var(--fill-color);\n",
              "    }\n",
              "  }\n",
              "</style>\n",
              "\n",
              "  <script>\n",
              "    async function quickchart(key) {\n",
              "      const quickchartButtonEl =\n",
              "        document.querySelector('#' + key + ' button');\n",
              "      quickchartButtonEl.disabled = true;  // To prevent multiple clicks.\n",
              "      quickchartButtonEl.classList.add('colab-df-spinner');\n",
              "      try {\n",
              "        const charts = await google.colab.kernel.invokeFunction(\n",
              "            'suggestCharts', [key], {});\n",
              "      } catch (error) {\n",
              "        console.error('Error during call to suggestCharts:', error);\n",
              "      }\n",
              "      quickchartButtonEl.classList.remove('colab-df-spinner');\n",
              "      quickchartButtonEl.classList.add('colab-df-quickchart-complete');\n",
              "    }\n",
              "    (() => {\n",
              "      let quickchartButtonEl =\n",
              "        document.querySelector('#df-9adf558c-6d7f-4db7-8899-50f53c3588f1 button');\n",
              "      quickchartButtonEl.style.display =\n",
              "        google.colab.kernel.accessAllowed ? 'block' : 'none';\n",
              "    })();\n",
              "  </script>\n",
              "</div>\n",
              "\n",
              "  <div id=\"id_5b65c407-e428-40d5-b075-12488467de1b\">\n",
              "    <style>\n",
              "      .colab-df-generate {\n",
              "        background-color: #E8F0FE;\n",
              "        border: none;\n",
              "        border-radius: 50%;\n",
              "        cursor: pointer;\n",
              "        display: none;\n",
              "        fill: #1967D2;\n",
              "        height: 32px;\n",
              "        padding: 0 0 0 0;\n",
              "        width: 32px;\n",
              "      }\n",
              "\n",
              "      .colab-df-generate:hover {\n",
              "        background-color: #E2EBFA;\n",
              "        box-shadow: 0px 1px 2px rgba(60, 64, 67, 0.3), 0px 1px 3px 1px rgba(60, 64, 67, 0.15);\n",
              "        fill: #174EA6;\n",
              "      }\n",
              "\n",
              "      [theme=dark] .colab-df-generate {\n",
              "        background-color: #3B4455;\n",
              "        fill: #D2E3FC;\n",
              "      }\n",
              "\n",
              "      [theme=dark] .colab-df-generate:hover {\n",
              "        background-color: #434B5C;\n",
              "        box-shadow: 0px 1px 3px 1px rgba(0, 0, 0, 0.15);\n",
              "        filter: drop-shadow(0px 1px 2px rgba(0, 0, 0, 0.3));\n",
              "        fill: #FFFFFF;\n",
              "      }\n",
              "    </style>\n",
              "    <button class=\"colab-df-generate\" onclick=\"generateWithVariable('feature_importances_df')\"\n",
              "            title=\"Generate code using this dataframe.\"\n",
              "            style=\"display:none;\">\n",
              "\n",
              "  <svg xmlns=\"http://www.w3.org/2000/svg\" height=\"24px\"viewBox=\"0 0 24 24\"\n",
              "       width=\"24px\">\n",
              "    <path d=\"M7,19H8.4L18.45,9,17,7.55,7,17.6ZM5,21V16.75L18.45,3.32a2,2,0,0,1,2.83,0l1.4,1.43a1.91,1.91,0,0,1,.58,1.4,1.91,1.91,0,0,1-.58,1.4L9.25,21ZM18.45,9,17,7.55Zm-12,3A5.31,5.31,0,0,0,4.9,8.1,5.31,5.31,0,0,0,1,6.5,5.31,5.31,0,0,0,4.9,4.9,5.31,5.31,0,0,0,6.5,1,5.31,5.31,0,0,0,8.1,4.9,5.31,5.31,0,0,0,12,6.5,5.46,5.46,0,0,0,6.5,12Z\"/>\n",
              "  </svg>\n",
              "    </button>\n",
              "    <script>\n",
              "      (() => {\n",
              "      const buttonEl =\n",
              "        document.querySelector('#id_5b65c407-e428-40d5-b075-12488467de1b button.colab-df-generate');\n",
              "      buttonEl.style.display =\n",
              "        google.colab.kernel.accessAllowed ? 'block' : 'none';\n",
              "\n",
              "      buttonEl.onclick = () => {\n",
              "        google.colab.notebook.generateWithVariable('feature_importances_df');\n",
              "      }\n",
              "      })();\n",
              "    </script>\n",
              "  </div>\n",
              "\n",
              "    </div>\n",
              "  </div>\n"
            ],
            "application/vnd.google.colaboratory.intrinsic+json": {
              "type": "dataframe",
              "variable_name": "feature_importances_df"
            }
          },
          "metadata": {},
          "execution_count": 20
        }
      ]
    },
    {
      "cell_type": "markdown",
      "source": [
        "# Results"
      ],
      "metadata": {
        "id": "k-6VBUd9SXk8"
      }
    },
    {
      "cell_type": "markdown",
      "source": [
        "**1. All features**"
      ],
      "metadata": {
        "id": "_-beBpqLN6zT"
      }
    },
    {
      "cell_type": "code",
      "source": [
        "svm(X_train_all_features, y_train, X_test_all_features, y_test)"
      ],
      "metadata": {
        "colab": {
          "base_uri": "https://localhost:8080/"
        },
        "id": "b3YI0l5BORvV",
        "outputId": "bccecbe2-48f5-4594-c798-e94ce0e340aa"
      },
      "execution_count": 23,
      "outputs": [
        {
          "output_type": "execute_result",
          "data": {
            "text/plain": [
              "0.6944444444444444"
            ]
          },
          "metadata": {},
          "execution_count": 23
        }
      ]
    },
    {
      "cell_type": "markdown",
      "source": [
        "**2. PCA**"
      ],
      "metadata": {
        "id": "SOOOY8OKOfCu"
      }
    },
    {
      "cell_type": "code",
      "source": [
        "svm(X_train_pca, y_train, X_test_pca, y_test)"
      ],
      "metadata": {
        "colab": {
          "base_uri": "https://localhost:8080/"
        },
        "id": "ltXobzmAOp2p",
        "outputId": "0357e22d-f716-4841-c271-424db2c42bba"
      },
      "execution_count": 25,
      "outputs": [
        {
          "output_type": "execute_result",
          "data": {
            "text/plain": [
              "0.7567567567567568"
            ]
          },
          "metadata": {},
          "execution_count": 25
        }
      ]
    },
    {
      "cell_type": "markdown",
      "source": [
        "**3. JMIM**"
      ],
      "metadata": {
        "id": "HBrStEFOkXed"
      }
    },
    {
      "cell_type": "code",
      "source": [
        "svm(X_train_JMIM, y_train, X_test_JMIM, y_test)"
      ],
      "metadata": {
        "colab": {
          "base_uri": "https://localhost:8080/"
        },
        "id": "Ra53eq82iisT",
        "outputId": "c7025b84-f22e-4dda-a3f6-83610f54cb35"
      },
      "execution_count": 54,
      "outputs": [
        {
          "output_type": "execute_result",
          "data": {
            "text/plain": [
              "0.6567164179104478"
            ]
          },
          "metadata": {},
          "execution_count": 54
        }
      ]
    },
    {
      "cell_type": "markdown",
      "source": [
        "**4. Lasso (L1 Regulizer)**"
      ],
      "metadata": {
        "id": "YrvSBKNrkbkZ"
      }
    },
    {
      "cell_type": "code",
      "source": [
        "svm(X_train_lasso, y_train, X_test_lasso, y_test)"
      ],
      "metadata": {
        "colab": {
          "base_uri": "https://localhost:8080/"
        },
        "id": "BmTuuswyyLb9",
        "outputId": "14221c08-1f4a-4d0d-e0b4-e771d520cd9c"
      },
      "execution_count": 27,
      "outputs": [
        {
          "output_type": "execute_result",
          "data": {
            "text/plain": [
              "0.6875"
            ]
          },
          "metadata": {},
          "execution_count": 27
        }
      ]
    },
    {
      "cell_type": "markdown",
      "source": [
        "**5. Lassonet**"
      ],
      "metadata": {
        "id": "8t7Sz5WZt0y1"
      }
    },
    {
      "cell_type": "code",
      "source": [
        "def lasso_net_res(X_train, X_test, y_train):\n",
        "    model = LassoNetClassifier(M=10, hidden_dims=(50,), path_multiplier=1.1, verbose=False)\n",
        "    path = model.path(X_train, y_train, return_state_dicts=True)\n",
        "\n",
        "    return model, path"
      ],
      "metadata": {
        "id": "IiR1blrcPGw6"
      },
      "execution_count": 28,
      "outputs": []
    },
    {
      "cell_type": "code",
      "source": [
        "model, path = lasso_net_res(X_train_all_features, X_test_all_features, y_train)\n",
        "f1s = []\n",
        "for save in path:\n",
        "    model.load(save.state_dict)\n",
        "    y_pred = model.predict(X_test_all_features)\n",
        "    f1s.append(f1_score(y_test, y_pred))"
      ],
      "metadata": {
        "id": "3XW0iRxyt396"
      },
      "execution_count": null,
      "outputs": []
    },
    {
      "cell_type": "code",
      "source": [
        "np.mean(f1s)"
      ],
      "metadata": {
        "colab": {
          "base_uri": "https://localhost:8080/"
        },
        "id": "q23eh2grPbpT",
        "outputId": "1d5188b0-4c25-471f-c757-23772588e7a3"
      },
      "execution_count": 32,
      "outputs": [
        {
          "output_type": "execute_result",
          "data": {
            "text/plain": [
              "0.7388791191655525"
            ]
          },
          "metadata": {},
          "execution_count": 32
        }
      ]
    },
    {
      "cell_type": "code",
      "source": [],
      "metadata": {
        "id": "yyVg_yAHQv6L"
      },
      "execution_count": null,
      "outputs": []
    }
  ],
  "metadata": {
    "colab": {
      "provenance": [],
      "gpuType": "T4"
    },
    "kernelspec": {
      "display_name": "Python 3",
      "name": "python3"
    },
    "language_info": {
      "name": "python"
    },
    "accelerator": "GPU"
  },
  "nbformat": 4,
  "nbformat_minor": 0
}