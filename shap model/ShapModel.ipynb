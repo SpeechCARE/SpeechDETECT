{
  "cells": [
    {
      "cell_type": "code",
      "execution_count": 2,
      "metadata": {
        "colab": {
          "base_uri": "https://localhost:8080/"
        },
        "id": "6u0vsmAqN87d",
        "outputId": "96d58d8d-f1fd-433f-9d94-ead9d5a2a112"
      },
      "outputs": [
        {
          "output_type": "stream",
          "name": "stdout",
          "text": [
            "Mounted at /content/gdrive\n"
          ]
        }
      ],
      "source": [
        "from google.colab import drive\n",
        "drive.mount('/content/gdrive', force_remount=False)"
      ]
    },
    {
      "cell_type": "code",
      "execution_count": 3,
      "metadata": {
        "id": "PWlD88piWL0-"
      },
      "outputs": [],
      "source": [
        "from IPython.display import clear_output"
      ]
    },
    {
      "cell_type": "code",
      "execution_count": 4,
      "metadata": {
        "id": "T85NAxSMweMb"
      },
      "outputs": [],
      "source": [
        "!pip install shap\n",
        "clear_output()"
      ]
    },
    {
      "cell_type": "code",
      "source": [
        "import sklearn"
      ],
      "metadata": {
        "id": "1WI4A_ud_NLV"
      },
      "execution_count": 1,
      "outputs": []
    },
    {
      "cell_type": "code",
      "execution_count": null,
      "metadata": {
        "id": "ACYoD5OpQA8M"
      },
      "outputs": [],
      "source": [
        "import torch\n",
        "import numpy as np\n",
        "import pandas as pd\n",
        "import pickle\n",
        "import re\n",
        "\n",
        "\n",
        "import matplotlib.pyplot as plt\n",
        "import sklearn\n",
        "from sklearn.preprocessing import StandardScaler, MinMaxScaler\n",
        "from sklearn.metrics import f1_score\n",
        "from sklearn.model_selection import train_test_split\n",
        "from sklearn.ensemble import RandomForestClassifier\n",
        "\n",
        "import shap\n",
        "\n",
        "shap.initjs()"
      ]
    },
    {
      "cell_type": "code",
      "source": [
        "def replace_outliers_with_average(data):\n",
        "    rows, cols = data.shape\n",
        "    for col in range(cols):\n",
        "        column_data = data[:, col]\n",
        "        Q1 = np.quantile(column_data, 0.01)\n",
        "        Q3 = np.quantile(column_data, 0.99)\n",
        "        # IQR = Q3 - Q1\n",
        "        lower_bound = Q1# - 1.5 * IQR\n",
        "        upper_bound = Q3# + 1.5 * IQR\n",
        "\n",
        "        # Identify outliers\n",
        "        outliers_mask = (column_data < lower_bound) | (column_data > upper_bound)\n",
        "\n",
        "        # Calculate the average of non-outliers\n",
        "        non_outliers_avg = column_data[~outliers_mask].mean()\n",
        "        # print(non_outliers_avg)\n",
        "\n",
        "        # Replace outliers with the average of non-outliers\n",
        "        data[outliers_mask, col] = non_outliers_avg\n",
        "\n",
        "    return data"
      ],
      "metadata": {
        "id": "J8SyKLFUNBh9"
      },
      "execution_count": 6,
      "outputs": []
    },
    {
      "cell_type": "code",
      "source": [
        "train_path = '/content/gdrive/MyDrive/speech_analysis/train_with_groups.csv'\n",
        "test_path = '/content/gdrive/MyDrive/speech_analysis/test_with_groups.csv'\n",
        "\n",
        "# Load your data\n",
        "train_df = pd.read_csv(train_path, header=[0, 1]).fillna(0)\n",
        "test_df = pd.read_csv(test_path, header=[0, 1]).fillna(0)"
      ],
      "metadata": {
        "id": "t47_VnP2zIvS"
      },
      "execution_count": 7,
      "outputs": []
    },
    {
      "cell_type": "code",
      "execution_count": 8,
      "metadata": {
        "colab": {
          "base_uri": "https://localhost:8080/"
        },
        "id": "XOsZRX-75tD3",
        "outputId": "49f40332-7d8c-4466-cf99-d538feb9b8da"
      },
      "outputs": [
        {
          "output_type": "stream",
          "name": "stderr",
          "text": [
            "<ipython-input-8-8a7b43ec8d07>:5: PerformanceWarning: dropping on a non-lexsorted multi-index without a level parameter may impact performance.\n",
            "  X_train = train_df.drop([\"Info\"], axis=1).values\n",
            "<ipython-input-8-8a7b43ec8d07>:7: PerformanceWarning: dropping on a non-lexsorted multi-index without a level parameter may impact performance.\n",
            "  X_val = test_df.drop([\"Info\"], axis=1).values\n"
          ]
        }
      ],
      "source": [
        "train_df.replace([np.inf, -np.inf], 0, inplace=True)\n",
        "test_df.replace([np.inf, -np.inf], 0, inplace=True)\n",
        "\n",
        "# Prepare the datasets\n",
        "X_train = train_df.drop([\"Info\"], axis=1).values\n",
        "y_train = train_df[(\"Info\", 'label')].values\n",
        "X_val = test_df.drop([\"Info\"], axis=1).values\n",
        "y_val = test_df[(\"Info\", 'label')].values\n",
        "\n",
        "X_train = replace_outliers_with_average(X_train.copy())\n",
        "X_val = replace_outliers_with_average(X_val.copy())\n",
        "\n",
        "scaler = MinMaxScaler()\n",
        "X_train = scaler.fit_transform(X_train)\n",
        "X_val = scaler.transform(X_val)\n",
        "\n",
        "X_val = replace_outliers_with_average(X_val.copy())"
      ]
    },
    {
      "cell_type": "code",
      "source": [
        "mmse_train_df = pd.read_excel(\"/content/gdrive/MyDrive/speech_analysis/gender/train_data_2021.xlsx\")\n",
        "mmse_test_df = pd.read_excel(\"/content/gdrive/MyDrive/speech_analysis/gender/test_data_2021.xlsx\")"
      ],
      "metadata": {
        "id": "WQJ58oid1_st"
      },
      "execution_count": 9,
      "outputs": []
    },
    {
      "cell_type": "code",
      "source": [
        "train_df.columns = train_df.columns.droplevel(level = 0)\n",
        "test_df.columns = test_df.columns.droplevel(level = 0)"
      ],
      "metadata": {
        "id": "iPBEMrSbTOpL"
      },
      "execution_count": 10,
      "outputs": []
    },
    {
      "cell_type": "code",
      "source": [
        "train_df[\"filename\"] = train_df[\"filename\"].apply(lambda x: x.split(\".\")[0].strip())\n",
        "test_df[\"filename\"] = test_df[\"filename\"].apply(lambda x: x.split(\".\")[0].strip())"
      ],
      "metadata": {
        "id": "t0uga8oCTeAN"
      },
      "execution_count": 11,
      "outputs": []
    },
    {
      "cell_type": "code",
      "source": [
        "train_mmse = pd.merge(train_df, mmse_train_df, left_on=\"filename\", right_on=\"id\")[[\"filename\", \"mmse\"]]\n",
        "test_mmse = pd.merge(test_df, mmse_test_df, left_on=\"filename\", right_on=\"id\")[[\"filename\", \"mmse\"]]\n",
        "\n",
        "train_mmse = train_mmse[\"mmse\"].values\n",
        "test_mmse = test_mmse[\"mmse\"].values\n",
        "\n",
        "all_mmse = np.concatenate((test_mmse, train_mmse))"
      ],
      "metadata": {
        "id": "zVYTSNb5TCpw"
      },
      "execution_count": 12,
      "outputs": []
    },
    {
      "cell_type": "code",
      "execution_count": 13,
      "metadata": {
        "id": "lcPL3WLvyfhD"
      },
      "outputs": [],
      "source": [
        "feature_names = train_df.columns[:-2].tolist()\n",
        "feature_names.append(\"MMSE\")"
      ]
    },
    {
      "cell_type": "code",
      "source": [
        "feature_main = {'LOG_MEL_SPECTROGRAM': 26, 'MFCC': 15, 'LPC': 9, 'LPCC': 9, 'ENVELOPE': 16, 'PLP': 9, 'lspFreq': 8, 'msc': 13}"
      ],
      "metadata": {
        "id": "46z057nqe5hw"
      },
      "execution_count": 14,
      "outputs": []
    },
    {
      "cell_type": "code",
      "source": [
        "functions = ['max',\n",
        " 'min',\n",
        " 'span',\n",
        " 'maxPos',\n",
        " 'minPos',\n",
        " 'amean',\n",
        " 'linregc1',\n",
        " 'linregc2',\n",
        " 'linregerrA',\n",
        " 'linregerrQ',\n",
        " 'stddev',\n",
        " 'skewness',\n",
        " 'kurtosis',\n",
        " 'quartile1',\n",
        " 'quartile2',\n",
        " 'quartile3',\n",
        " 'iqr1_2',\n",
        " 'iqr2_3',\n",
        " 'iqr1_3',\n",
        " 'percentile1',\n",
        " 'percentile99',\n",
        " 'pctlrange0_1',\n",
        " 'upleveltime75',\n",
        " 'upleveltime90']"
      ],
      "metadata": {
        "id": "s1BoP1y8k5NK"
      },
      "execution_count": 15,
      "outputs": []
    },
    {
      "cell_type": "code",
      "source": [
        "def agg_matrices(X_train, X_val, feature_names, de=False):\n",
        "    for feature in feature_main:\n",
        "        for f in functions:\n",
        "            if de:\n",
        "                pattern = re.compile(f\"^{feature}_sma_de\\[\\d+\\]_{f}$\")\n",
        "            else:\n",
        "                pattern = re.compile(f\"^{feature}_sma\\[\\d+\\]_{f}$\")\n",
        "\n",
        "            matching_indices = [i for i, s in enumerate(feature_names) if pattern.match(s)]\n",
        "            if feature == \"MFCC\":\n",
        "                feature_names = np.delete(feature_names , matching_indices[1:])\n",
        "                X_train = np.delete(X_train, matching_indices[1:], axis=1)\n",
        "                X_val = np.delete(X_val, matching_indices[1:], axis=1)\n",
        "                matching_indices = matching_indices[:1]\n",
        "\n",
        "            if (len(matching_indices) == 0):\n",
        "                print(f\"{feature}_sma\\[\\d+\\]_{f}\", matching_indices)\n",
        "                continue\n",
        "\n",
        "            X_train_mean_column = np.mean(X_train[:, matching_indices], axis=1)\n",
        "            X_val_mean_column = np.mean(X_val[:, matching_indices], axis=1)\n",
        "\n",
        "            insert_position = min(matching_indices)  # typically, you would want it where the first column was\n",
        "\n",
        "            X_train = np.delete(X_train, matching_indices, axis=1)\n",
        "            X_train = np.insert(X_train, insert_position, X_train_mean_column, axis=1)\n",
        "\n",
        "            X_val = np.delete(X_val, matching_indices, axis=1)\n",
        "            X_val = np.insert(X_val, insert_position, X_val_mean_column, axis=1)\n",
        "\n",
        "\n",
        "            feature_names = np.delete(feature_names, matching_indices)\n",
        "            name = f\"{feature}_sma_de_{f}\" if de else f\"{feature}_sma_{f}\"\n",
        "            feature_names = np.insert(feature_names, insert_position, f\"{feature}_sma_de_{f}\")\n",
        "\n",
        "\n",
        "    return X_train, X_val, feature_names"
      ],
      "metadata": {
        "id": "tk0GHI1EfU4A"
      },
      "execution_count": 16,
      "outputs": []
    },
    {
      "cell_type": "code",
      "source": [
        "print(f\"X_train shape: {X_train.shape}\")\n",
        "print(f\"X_val shape: {X_val.shape}\")\n",
        "\n",
        "X_train, X_val, feature_names = agg_matrices(X_train, X_val, np.array(feature_names), de=False)\n",
        "X_train, X_val, feature_names = agg_matrices(X_train, X_val, np.array(feature_names), de=True)\n",
        "\n",
        "print(\"After aggregating matrices:\")\n",
        "print(f\"X_train shape: {X_train.shape}\")\n",
        "print(f\"X_val shape: {X_val.shape}\")"
      ],
      "metadata": {
        "id": "TnbuUI7Rg5oy",
        "colab": {
          "base_uri": "https://localhost:8080/"
        },
        "outputId": "a90e1d8f-3aca-41e2-8cee-23c390e514dd"
      },
      "execution_count": 17,
      "outputs": [
        {
          "output_type": "stream",
          "name": "stdout",
          "text": [
            "X_train shape: (166, 6859)\n",
            "X_val shape: (71, 6859)\n",
            "After aggregating matrices:\n",
            "X_train shape: (166, 1627)\n",
            "X_val shape: (71, 1627)\n"
          ]
        }
      ]
    },
    {
      "cell_type": "code",
      "execution_count": null,
      "metadata": {
        "id": "og8V0UfW2ORu"
      },
      "outputs": [],
      "source": [
        "# models = []\n",
        "# f1s = []\n",
        "# for i in range(10):\n",
        "#     model_1 = RandomForestClassifier(max_depth=4)\n",
        "#     model_1.fit(X_train, y_train)\n",
        "#     f1 = f1_score(model_1.predict(X_val), y_val)\n",
        "#     print(f1)\n",
        "#     models.append(model_1)\n",
        "#     f1s.append(f1)\n",
        "model_1 = pickle.load(open(\"/content/gdrive/MyDrive/speech_analysis/rf0.76pkl_mfcc\", 'rb'))"
      ]
    },
    {
      "cell_type": "code",
      "source": [
        "model_1 = models[np.argmax(f1s)]"
      ],
      "metadata": {
        "id": "7vd38TY_R9xp"
      },
      "execution_count": 21,
      "outputs": []
    },
    {
      "cell_type": "code",
      "source": [
        "f1_score(model_1.predict(X_val), y_val)"
      ],
      "metadata": {
        "colab": {
          "base_uri": "https://localhost:8080/"
        },
        "id": "ZDK5uDbERB86",
        "outputId": "9e9e2043-e06d-43f6-ed8c-f2515516154e"
      },
      "execution_count": 22,
      "outputs": [
        {
          "output_type": "execute_result",
          "data": {
            "text/plain": [
              "0.7428571428571429"
            ]
          },
          "metadata": {},
          "execution_count": 22
        }
      ]
    },
    {
      "cell_type": "code",
      "source": [
        "neww = np.concatenate((X_val, X_train), axis=0)"
      ],
      "metadata": {
        "id": "A3ZU4VYsZhgI"
      },
      "execution_count": 23,
      "outputs": []
    },
    {
      "cell_type": "code",
      "source": [
        "neww.shape"
      ],
      "metadata": {
        "colab": {
          "base_uri": "https://localhost:8080/"
        },
        "id": "qIx9Wp3MZnfl",
        "outputId": "f80f335c-5dd4-406f-cbf7-1144fa3c8d5c"
      },
      "execution_count": 24,
      "outputs": [
        {
          "output_type": "execute_result",
          "data": {
            "text/plain": [
              "(237, 1627)"
            ]
          },
          "metadata": {},
          "execution_count": 24
        }
      ]
    },
    {
      "cell_type": "code",
      "execution_count": 25,
      "metadata": {
        "id": "GaIvwwci2Tz_"
      },
      "outputs": [],
      "source": [
        "explainer = shap.Explainer(model_1)\n",
        "shap_values = explainer.shap_values(neww)"
      ]
    },
    {
      "cell_type": "code",
      "source": [
        "num_samples, num_features, num_outputs = shap_values.shape\n",
        "all_features = np.concatenate((neww, all_mmse.reshape(-1, 1)), axis=1)\n",
        "new_feature_shap = np.zeros((237, 1, num_outputs))\n",
        "shap_values_with_new_feature = np.concatenate([shap_values, new_feature_shap], axis=1)"
      ],
      "metadata": {
        "id": "DnMpsGTkOjXQ"
      },
      "execution_count": 26,
      "outputs": []
    },
    {
      "cell_type": "code",
      "source": [
        "shap_values = shap_values_with_new_feature[:, :, 1]"
      ],
      "metadata": {
        "id": "u0rPGrIO-3Oa"
      },
      "execution_count": 27,
      "outputs": []
    },
    {
      "cell_type": "code",
      "source": [
        "shap_values.shape"
      ],
      "metadata": {
        "colab": {
          "base_uri": "https://localhost:8080/"
        },
        "id": "ydFen0IsYuvC",
        "outputId": "631f7469-e906-48cf-80a7-63b287e8b6a5"
      },
      "execution_count": 28,
      "outputs": [
        {
          "output_type": "execute_result",
          "data": {
            "text/plain": [
              "(237, 1628)"
            ]
          },
          "metadata": {},
          "execution_count": 28
        }
      ]
    },
    {
      "cell_type": "code",
      "source": [
        "selected_features = [\n",
        "    \"ENVELOPE_sma_de_linregc2\",\n",
        "    \"jitter_sma_de_iqr2_3\",\n",
        "    \"hesitation_rate\",\n",
        "    \"MFCC_sma_de_linregc2\",\n",
        "    \"pause_lengths_avg\",\n",
        "    \"num_of_sylablles\",\n",
        "    \"pause_speech_duration_ratio\",\n",
        "    \"F1_sma_de_quartile2\",\n",
        "    \"mean_words_in_utterance\",\n",
        "    \"F0_sma_de_iqr1_2\",\n",
        "    \"PLP_sma_de_linregc1\",\n",
        "    \"LTAS_sma_iqr1_3\",\n",
        "    \"amp_range_sma_quartile3\",\n",
        "    \"AMP_ENTROPY_sma_upleveltime90\",\n",
        "    \"F2_sma_skewness\",\n",
        "    \"MFCC_sma_de_amean\",\n",
        "    \"LTAS_sma_span\",\n",
        "    \"LPCC_sma_de_span\",\n",
        "    \"NHR_sma_kurtosis\",\n",
        "    \"jitter_sma_amean\",\n",
        "    \"transformed_phonation_rate\",\n",
        "    \"SHIMMER_sma_iqr1_2\",\n",
        "    \"CPP_sma_linregc1\",\n",
        "    \"F3_sma_linregc1\",\n",
        "    \"LTAS_sma_stddev\",\n",
        "    \"speech_length\",\n",
        "    \"SPL_sma_de_kurtosis\",\n",
        "    \"SPL_sma_de_iqr1_3\",\n",
        "    \"relative_sentence_duration_sma_de_span\",\n",
        "    \"regularity_8\",\n",
        "    \"MMSE\"\n",
        "]\n"
      ],
      "metadata": {
        "id": "ACigwgdEk34J"
      },
      "execution_count": 29,
      "outputs": []
    },
    {
      "cell_type": "code",
      "source": [
        "selected_feature_names = [\n",
        "    \"Spectral envelope (sma_de_linregc2)\",\n",
        "    \"Jitter (sma_de_iqr2_3)\",\n",
        "    'Hesitation rate',\n",
        "    'Mel-frequency cepstral coefficients (sma_de_linregc2)',\n",
        "    'Average pause length',\n",
        "    'Syllable count',\n",
        "    'Pause length ratio',\n",
        "    'F1 (sma_de_quartile2)',\n",
        "    'Mean Number of words in utterances',\n",
        "    'F0 (sma_de_iqr1_2)',\n",
        "    'Perceptual linear predictive coefficients (sma_de_linregc1)',\n",
        "    'Long term average spectrum (sma_iqr1_3)',\n",
        "    'Amplitude range (sma_quartile3)',\n",
        "    'Amplitude entropy (sma_upleveltime90)',\n",
        "    'F2 (sma_skewness)',\n",
        "    'Mel-frequency cepstral coefficients (sma_de_amean)',\n",
        "    'Long term average spectrum (sma_span)',\n",
        "    'Linear predictive cepstral coefficients (sma_de_span)',\n",
        "    'Noise to harmonic ratio (sma_kurtosis)',\n",
        "    'Jitter (sma_amean)',\n",
        "    'Transformed Phonation Rate ',\n",
        "    'Shimmer (sma_iqr1_2)',\n",
        "    'Cepstral peak prominence (sma_linregc1)',\n",
        "    'F3 (sma_linregc1)',\n",
        "    'Long term average spectrum (sma_stddev)',\n",
        "    'Total length of speech',\n",
        "    'Sound pressure level (sma_de_kurtosis)',\n",
        "    'Sound pressure level (sma_de_iqr1_3)',\n",
        "    'Relative sentence duration (sma_de_span)',\n",
        "    'Regularity (stddev of silence segments)',\n",
        "    \"MMSE\"\n",
        "]"
      ],
      "metadata": {
        "id": "yzSwHWF5rCEm"
      },
      "execution_count": 30,
      "outputs": []
    },
    {
      "cell_type": "code",
      "source": [
        "indices = []\n",
        "list_feature_names = list(feature_names)\n",
        "for feature in selected_features:\n",
        "    indices.append(list_feature_names.index(feature))\n"
      ],
      "metadata": {
        "id": "5QmEIz3nkhof"
      },
      "execution_count": 31,
      "outputs": []
    },
    {
      "cell_type": "code",
      "source": [
        "print(indices)"
      ],
      "metadata": {
        "colab": {
          "base_uri": "https://localhost:8080/"
        },
        "id": "sGCrHS0cZUGG",
        "outputId": "ddc940a7-5fcf-4bae-9452-09adb212f417"
      },
      "execution_count": 32,
      "outputs": [
        {
          "output_type": "stream",
          "name": "stdout",
          "text": [
            "[817, 226, 1, 673, 5, 17, 6, 271, 16, 177, 960, 587, 392, 1602, 292, 671, 571, 764, 1207, 190, 27, 1115, 864, 335, 579, 10, 1327, 1333, 67, 37, 1627]\n"
          ]
        }
      ]
    },
    {
      "cell_type": "code",
      "source": [
        "feature_names = feature_names[indices]\n",
        "shap_values = shap_values[:, indices]\n",
        "neww = all_features[:, indices]"
      ],
      "metadata": {
        "id": "sZJ82fMVlUEb"
      },
      "execution_count": 33,
      "outputs": []
    },
    {
      "cell_type": "code",
      "source": [
        "shap.summary_plot?"
      ],
      "metadata": {
        "id": "d3nnlFtyP3AS"
      },
      "execution_count": 34,
      "outputs": []
    },
    {
      "cell_type": "code",
      "source": [
        "shap.summary_plot(shap_values, neww, feature_names=selected_feature_names, max_display=30,\n",
        "                  show=False, plot_size=[16, 12])\n",
        "\n",
        "_ = plt.yticks(fontsize=11)\n",
        "_ = plt.xticks(fontsize=11)\n",
        "\n",
        "\n",
        "fig, ax = plt.gcf(), plt.gca()\n",
        "\n",
        "fig.axes[-1].set_ylabel('Feature Value', fontsize=11)\n",
        "fig.axes[-1].tick_params(labelsize=8)\n",
        "\n",
        "total_shap_values = np.abs(shap_values).sum(axis=0)\n",
        "\n",
        "# Sort the features by total SHAP value\n",
        "sorted_indices = np.argsort(total_shap_values)[::-1]\n",
        "sorted_feature_names = [selected_feature_names[i] for i in sorted_indices]\n",
        "sorted_total_shap_values = total_shap_values[sorted_indices]\n",
        "\n",
        "# # Create the beeswarm plot\n",
        "# # shap.summary_plot(shap_values, features, plot_type=\"dot\", show=False)\n",
        "\n",
        "y_tick_labels = [item.get_text() for item in ax.get_yticklabels()]\n",
        "y_tick_labels.reverse()\n",
        "\n",
        "# # Create new y-axis labels with feature names aligned to the left and total SHAP values aligned to the right\n",
        "new_y_tick_labels = [\n",
        "    f\"{label:<0} {total:>10.2f}\" for label, total in zip(sorted_feature_names, sorted_total_shap_values)\n",
        "]\n",
        "\n",
        "# # Update the y-axis labels\n",
        "new_y_tick_labels.reverse()\n",
        "ax.set_yticklabels(new_y_tick_labels[1:31])\n",
        "\n",
        "\n",
        "_ = plt.xlabel(\"SHAP value (impact on model output)\", fontsize=11)\n",
        "\n",
        "\n",
        "\n",
        "axes = fig.get_axes()\n",
        "\n",
        "# The colorbar can usually be found as the last axes object\n",
        "# Adjust colorbar size and position\n",
        "if len(axes) > 1:\n",
        "    cbar = axes[-1]\n",
        "    cbar.set_box_aspect(4)\n",
        "    cbar.set_position([0.9, 0.1, 0.02, 0.8])\n",
        "    cbar.tick_params(labelsize=11)\n",
        "\n",
        "\n",
        "ax.tick_params(axis='y', pad=-15)\n",
        "ax.grid(True, alpha=0.5)\n",
        "\n",
        "# Show the plot with the updated y-axis labels\n",
        "plt.show()"
      ],
      "metadata": {
        "id": "WVscOGArorfZ"
      },
      "execution_count": null,
      "outputs": []
    },
    {
      "cell_type": "code",
      "source": [
        "fig.savefig(\"summary plot.svg\", dpi=600)"
      ],
      "metadata": {
        "id": "07-gdAkbwa0S"
      },
      "execution_count": null,
      "outputs": []
    },
    {
      "cell_type": "code",
      "source": [
        "df[\"speech_rate_words\"] = df[\"speech_rate_words\"] * (1 / df[\"tlt\"])\n",
        "df[\"speech_rate_syllable\"] = df[\"speech_rate_syllable\"] * (1 / df[\"tlt\"])"
      ],
      "metadata": {
        "id": "97R_ijlF_iTF"
      },
      "execution_count": null,
      "outputs": []
    },
    {
      "cell_type": "code",
      "source": [
        "columns = [\n",
        "      \"filename\",\n",
        "      \"label\",\n",
        "      \"jitter_sma_de_iqr2_3\",\n",
        "      \"jitter_sma_amean\",\n",
        "      \"SHIMMER_sma_iqr1_2\",\n",
        "      \"transformed_phonation_rate\",\n",
        "      \"AMP_ENTROPY_sma_upleveltime90\",\n",
        "      \"LTAS_sma_iqr1_3\",\n",
        "      \"LTAS_sma_span\",\n",
        "      \"LTAS_sma_stddev\",\n",
        "      \"speech_rate_words\",\n",
        "      \"speech_rate_syllable\",\n",
        "      \"transformed_phonation_rate\",\n",
        "      \"pause_lengths_avg\",\n",
        "      \"pause_speech_duration_ratio\",\n",
        "      \"SPL_sma_de_kurtosis\",\n",
        "      \"SPL_sma_de_iqr1_3\",\n",
        "\n",
        "\n",
        "\n",
        "\n",
        "\n",
        "\n",
        "\n",
        "]"
      ],
      "metadata": {
        "id": "-BmB7CPOAQKi"
      },
      "execution_count": null,
      "outputs": []
    },
    {
      "cell_type": "code",
      "source": [
        "df[columns].to_csv(\"features.csv\")"
      ],
      "metadata": {
        "id": "JiFuL49v_m6k"
      },
      "execution_count": null,
      "outputs": []
    },
    {
      "cell_type": "code",
      "source": [],
      "metadata": {
        "id": "Ra8bdEde_0bq"
      },
      "execution_count": null,
      "outputs": []
    }
  ],
  "metadata": {
    "colab": {
      "provenance": []
    },
    "kernelspec": {
      "display_name": "Python 3",
      "name": "python3"
    },
    "language_info": {
      "name": "python"
    }
  },
  "nbformat": 4,
  "nbformat_minor": 0
}